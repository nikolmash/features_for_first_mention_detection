{
 "cells": [
  {
   "cell_type": "code",
   "execution_count": 1,
   "metadata": {},
   "outputs": [],
   "source": [
    "import pandas as pd\n",
    "import sqlite3"
   ]
  },
  {
   "cell_type": "code",
   "execution_count": 2,
   "metadata": {},
   "outputs": [],
   "source": [
    "D = pd.read_csv('FFFM.csv')\n",
    "conn = sqlite3.connect('mentions.db')\n",
    "c = conn.cursor()"
   ]
  },
  {
   "cell_type": "code",
   "execution_count": 3,
   "metadata": {},
   "outputs": [],
   "source": [
    "c.execute('SELECT First_mention from mentions')\n",
    "answers = [x[0] for x in c.fetchall()]"
   ]
  },
  {
   "cell_type": "code",
   "execution_count": 148,
   "metadata": {},
   "outputs": [
    {
     "data": {
      "text/html": [
       "<div>\n",
       "<style scoped>\n",
       "    .dataframe tbody tr th:only-of-type {\n",
       "        vertical-align: middle;\n",
       "    }\n",
       "\n",
       "    .dataframe tbody tr th {\n",
       "        vertical-align: top;\n",
       "    }\n",
       "\n",
       "    .dataframe thead th {\n",
       "        text-align: right;\n",
       "    }\n",
       "</style>\n",
       "<table border=\"1\" class=\"dataframe\">\n",
       "  <thead>\n",
       "    <tr style=\"text-align: right;\">\n",
       "      <th></th>\n",
       "      <th>Длина ИГ</th>\n",
       "      <th>Позиция ремы</th>\n",
       "      <th>Позиция в тексте</th>\n",
       "      <th>Подлежащее</th>\n",
       "      <th>Кол-во прил</th>\n",
       "      <th>Имена соб-е</th>\n",
       "      <th>Рестрикт</th>\n",
       "      <th>Приложения</th>\n",
       "      <th>Каузация существ.</th>\n",
       "      <th>Модификаторы</th>\n",
       "      <th>Неопр маркеры</th>\n",
       "      <th>Маркеры неравн</th>\n",
       "      <th>Маркеры схож</th>\n",
       "      <th>Предикаты</th>\n",
       "      <th>Объекты</th>\n",
       "    </tr>\n",
       "  </thead>\n",
       "  <tbody>\n",
       "    <tr>\n",
       "      <th>0</th>\n",
       "      <td>0</td>\n",
       "      <td>0</td>\n",
       "      <td>2</td>\n",
       "      <td>1</td>\n",
       "      <td>0</td>\n",
       "      <td>1</td>\n",
       "      <td>0</td>\n",
       "      <td>0</td>\n",
       "      <td>0</td>\n",
       "      <td>0</td>\n",
       "      <td>0</td>\n",
       "      <td>0</td>\n",
       "      <td>0</td>\n",
       "      <td>0</td>\n",
       "      <td>0</td>\n",
       "    </tr>\n",
       "    <tr>\n",
       "      <th>1</th>\n",
       "      <td>0</td>\n",
       "      <td>0</td>\n",
       "      <td>2</td>\n",
       "      <td>1</td>\n",
       "      <td>0</td>\n",
       "      <td>1</td>\n",
       "      <td>0</td>\n",
       "      <td>0</td>\n",
       "      <td>0</td>\n",
       "      <td>0</td>\n",
       "      <td>0</td>\n",
       "      <td>0</td>\n",
       "      <td>0</td>\n",
       "      <td>0</td>\n",
       "      <td>0</td>\n",
       "    </tr>\n",
       "    <tr>\n",
       "      <th>2</th>\n",
       "      <td>1</td>\n",
       "      <td>0</td>\n",
       "      <td>2</td>\n",
       "      <td>0</td>\n",
       "      <td>0</td>\n",
       "      <td>1</td>\n",
       "      <td>0</td>\n",
       "      <td>1</td>\n",
       "      <td>0</td>\n",
       "      <td>0</td>\n",
       "      <td>0</td>\n",
       "      <td>0</td>\n",
       "      <td>0</td>\n",
       "      <td>0</td>\n",
       "      <td>0</td>\n",
       "    </tr>\n",
       "    <tr>\n",
       "      <th>3</th>\n",
       "      <td>0</td>\n",
       "      <td>0</td>\n",
       "      <td>2</td>\n",
       "      <td>0</td>\n",
       "      <td>0</td>\n",
       "      <td>1</td>\n",
       "      <td>0</td>\n",
       "      <td>0</td>\n",
       "      <td>0</td>\n",
       "      <td>0</td>\n",
       "      <td>0</td>\n",
       "      <td>0</td>\n",
       "      <td>0</td>\n",
       "      <td>0</td>\n",
       "      <td>0</td>\n",
       "    </tr>\n",
       "    <tr>\n",
       "      <th>4</th>\n",
       "      <td>0</td>\n",
       "      <td>0</td>\n",
       "      <td>2</td>\n",
       "      <td>0</td>\n",
       "      <td>1</td>\n",
       "      <td>0</td>\n",
       "      <td>0</td>\n",
       "      <td>0</td>\n",
       "      <td>0</td>\n",
       "      <td>0</td>\n",
       "      <td>0</td>\n",
       "      <td>0</td>\n",
       "      <td>0</td>\n",
       "      <td>0</td>\n",
       "      <td>0</td>\n",
       "    </tr>\n",
       "  </tbody>\n",
       "</table>\n",
       "</div>"
      ],
      "text/plain": [
       "   Длина ИГ  Позиция ремы  Позиция в тексте  Подлежащее  Кол-во прил  \\\n",
       "0         0             0                 2           1            0   \n",
       "1         0             0                 2           1            0   \n",
       "2         1             0                 2           0            0   \n",
       "3         0             0                 2           0            0   \n",
       "4         0             0                 2           0            1   \n",
       "\n",
       "   Имена соб-е  Рестрикт  Приложения  Каузация существ.  Модификаторы  \\\n",
       "0            1         0           0                  0             0   \n",
       "1            1         0           0                  0             0   \n",
       "2            1         0           1                  0             0   \n",
       "3            1         0           0                  0             0   \n",
       "4            0         0           0                  0             0   \n",
       "\n",
       "   Неопр маркеры  Маркеры неравн  Маркеры схож  Предикаты  Объекты  \n",
       "0              0               0             0          0        0  \n",
       "1              0               0             0          0        0  \n",
       "2              0               0             0          0        0  \n",
       "3              0               0             0          0        0  \n",
       "4              0               0             0          0        0  "
      ]
     },
     "execution_count": 148,
     "metadata": {},
     "output_type": "execute_result"
    }
   ],
   "source": [
    "df = D.iloc[:2289, 1:]\n",
    "df.head()"
   ]
  },
  {
   "cell_type": "code",
   "execution_count": 149,
   "metadata": {},
   "outputs": [],
   "source": [
    "from sklearn.model_selection import train_test_split\n",
    "\n",
    "x_train,x_test,y_train,y_test = train_test_split(df, answers, test_size=0.3, random_state=42)"
   ]
  },
  {
   "cell_type": "code",
   "execution_count": 150,
   "metadata": {},
   "outputs": [
    {
     "name": "stderr",
     "output_type": "stream",
     "text": [
      "c:\\users\\maria\\appdata\\local\\programs\\python\\python36-32\\lib\\site-packages\\sklearn\\ensemble\\forest.py:246: FutureWarning: The default value of n_estimators will change from 10 in version 0.20 to 100 in 0.22.\n",
      "  \"10 in version 0.20 to 100 in 0.22.\", FutureWarning)\n"
     ]
    }
   ],
   "source": [
    "from sklearn.ensemble import RandomForestClassifier\n",
    "\n",
    "rf = RandomForestClassifier()\n",
    "rf.fit(x_train,y_train)\n",
    "y_pred=rf.predict(x_test)"
   ]
  },
  {
   "cell_type": "code",
   "execution_count": 151,
   "metadata": {},
   "outputs": [
    {
     "name": "stdout",
     "output_type": "stream",
     "text": [
      "0.6227848101265823 0.6721311475409836 0.6465177398160316\n"
     ]
    }
   ],
   "source": [
    "from sklearn.metrics import precision_score, recall_score, f1_score \n",
    "\n",
    "print(precision_score(y_test, y_pred), recall_score(y_test, y_pred), f1_score(y_test, y_pred))"
   ]
  },
  {
   "cell_type": "code",
   "execution_count": 152,
   "metadata": {},
   "outputs": [
    {
     "data": {
      "text/plain": [
       "Позиция в тексте     0.163735\n",
       "Длина ИГ             0.131807\n",
       "Имена соб-е          0.091993\n",
       "Подлежащее           0.091108\n",
       "Кол-во прил          0.084517\n",
       "Приложения           0.075619\n",
       "Рестрикт             0.046431\n",
       "Объекты              0.034192\n",
       "Позиция ремы         0.030359\n",
       "Каузация существ.    0.015851\n",
       "Предикаты            0.008311\n",
       "Модификаторы         0.004811\n",
       "Маркеры схож         0.002868\n",
       "Маркеры неравн       0.002868\n",
       "Неопр маркеры        0.002868\n",
       "Name: target, dtype: float64"
      ]
     },
     "execution_count": 152,
     "metadata": {},
     "output_type": "execute_result"
    }
   ],
   "source": [
    "df['target'] = answers\n",
    "\n",
    "corr = df.corr()['target'][df.corr()['target'] < 1]\n",
    "corr.sort_values(ascending=False)"
   ]
  },
  {
   "cell_type": "code",
   "execution_count": 153,
   "metadata": {},
   "outputs": [
    {
     "name": "stdout",
     "output_type": "stream",
     "text": [
      "0.6307692307692307 0.6721311475409836 0.6507936507936507\n"
     ]
    },
    {
     "name": "stderr",
     "output_type": "stream",
     "text": [
      "c:\\users\\maria\\appdata\\local\\programs\\python\\python36-32\\lib\\site-packages\\sklearn\\ensemble\\forest.py:246: FutureWarning: The default value of n_estimators will change from 10 in version 0.20 to 100 in 0.22.\n",
      "  \"10 in version 0.20 to 100 in 0.22.\", FutureWarning)\n"
     ]
    }
   ],
   "source": [
    "df1=D[['Длина ИГ', 'Позиция ремы', 'Позиция в тексте',\n",
    "       'Подлежащее', 'Кол-во прил', 'Имена соб-е', 'Рестрикт', 'Приложения',\n",
    "       'Каузация существ.', 'Модификаторы','Предикаты', 'Объекты']]\n",
    "\n",
    "x_train,x_test,y_train,y_test = train_test_split(df1, answers, test_size=0.3, random_state=42)\n",
    "\n",
    "rf = RandomForestClassifier()\n",
    "rf.fit(x_train,y_train)\n",
    "y_pred=rf.predict(x_test)\n",
    "print(precision_score(y_test, y_pred), recall_score(y_test, y_pred), f1_score(y_test, y_pred))"
   ]
  },
  {
   "cell_type": "code",
   "execution_count": 154,
   "metadata": {},
   "outputs": [
    {
     "name": "stdout",
     "output_type": "stream",
     "text": [
      "0.625615763546798 0.6939890710382514 0.6580310880829016\n"
     ]
    },
    {
     "name": "stderr",
     "output_type": "stream",
     "text": [
      "c:\\users\\maria\\appdata\\local\\programs\\python\\python36-32\\lib\\site-packages\\sklearn\\ensemble\\forest.py:246: FutureWarning: The default value of n_estimators will change from 10 in version 0.20 to 100 in 0.22.\n",
      "  \"10 in version 0.20 to 100 in 0.22.\", FutureWarning)\n"
     ]
    }
   ],
   "source": [
    "df2=D[['Длина ИГ', 'Позиция в тексте',\n",
    "       'Подлежащее', 'Кол-во прил', 'Имена соб-е', 'Рестрикт', 'Приложения']]\n",
    "\n",
    "x_train,x_test,y_train,y_test = train_test_split(df1, answers, test_size=0.3, random_state=42)\n",
    "rf = RandomForestClassifier()\n",
    "rf.fit(x_train,y_train)\n",
    "y_pred=rf.predict(x_test)\n",
    "print(precision_score(y_test, y_pred), recall_score(y_test, y_pred), f1_score(y_test, y_pred))"
   ]
  },
  {
   "cell_type": "code",
   "execution_count": 155,
   "metadata": {},
   "outputs": [
    {
     "name": "stdout",
     "output_type": "stream",
     "text": [
      "0.6174142480211082 0.639344262295082 0.6281879194630873\n"
     ]
    },
    {
     "name": "stderr",
     "output_type": "stream",
     "text": [
      "c:\\users\\maria\\appdata\\local\\programs\\python\\python36-32\\lib\\site-packages\\sklearn\\ensemble\\forest.py:246: FutureWarning: The default value of n_estimators will change from 10 in version 0.20 to 100 in 0.22.\n",
      "  \"10 in version 0.20 to 100 in 0.22.\", FutureWarning)\n"
     ]
    }
   ],
   "source": [
    "df3=D[['Длина ИГ', 'Позиция в тексте', 'Кол-во прил', 'Подлежащее']]\n",
    "\n",
    "x_train,x_test,y_train,y_test = train_test_split(df1, answers, test_size=0.3, random_state=42)\n",
    "rf = RandomForestClassifier()\n",
    "rf.fit(x_train,y_train)\n",
    "y_pred=rf.predict(x_test)\n",
    "print(precision_score(y_test, y_pred), recall_score(y_test, y_pred), f1_score(y_test, y_pred))"
   ]
  },
  {
   "cell_type": "code",
   "execution_count": 131,
   "metadata": {},
   "outputs": [
    {
     "name": "stdout",
     "output_type": "stream",
     "text": [
      " родовых сертификатов\n",
      "  \n",
      " дискуссии за и против гламура\n",
      "  \n",
      "﻿Леван Гачечиладзе\n",
      "  \n",
      " «Новой газеты»\n",
      "  \n",
      " несовершеннолетних\n",
      "  \n",
      "﻿Альбина Ахатова\n",
      "  \n",
      " туманного Альбиона\n",
      "  \n",
      " канадской модели украинского происхождения\n",
      "  \n",
      " четверг\n",
      "  \n",
      " канадской модели украинского происхождения\n",
      "  \n",
      " мероприятия\n",
      "  \n"
     ]
    }
   ],
   "source": [
    "ind=np.where(y_pred != y_test)\n",
    "ind=np.array(ind[0])\n",
    "random_ind = np.random.randint(0,ind.shape[0],(30))\n",
    "for i in random_ind:\n",
    "    if ind[i] in x_test.index:\n",
    "        print(D['Unnamed: 0'][ind[i]])\n",
    "        print('  ')"
   ]
  }
 ],
 "metadata": {
  "kernelspec": {
   "display_name": "Python 3",
   "language": "python",
   "name": "python3"
  },
  "language_info": {
   "codemirror_mode": {
    "name": "ipython",
    "version": 3
   },
   "file_extension": ".py",
   "mimetype": "text/x-python",
   "name": "python",
   "nbconvert_exporter": "python",
   "pygments_lexer": "ipython3",
   "version": "3.6.2"
  }
 },
 "nbformat": 4,
 "nbformat_minor": 2
}
